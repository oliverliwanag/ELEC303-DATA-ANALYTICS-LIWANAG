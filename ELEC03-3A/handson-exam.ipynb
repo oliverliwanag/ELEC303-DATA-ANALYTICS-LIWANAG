{
 "cells": [
  {
   "cell_type": "markdown",
   "id": "cc39fc1c-0297-464d-bf61-8ade75925fef",
   "metadata": {},
   "source": [
    "<h1> MIDTERM HANDS ON EXAM - Chicago Crimes Data Analytics</h1>\n",
    "<hr>\n",
    "<h3>Analyst: John Oliver A. Liwanag</h3>"
   ]
  },
  {
   "cell_type": "code",
   "execution_count": null,
   "id": "e75551d7-71d6-4798-94c7-502af1ac2c0d",
   "metadata": {},
   "outputs": [],
   "source": [
    "import numpy as np\n",
    "import pandas as pd\n",
    "import warnings\n",
    "import matplotlib.pyplot as plt\n",
    "import seaborn as sns\n",
    "warnings.filterwarnings('ignore')"
   ]
  },
  {
   "cell_type": "code",
   "execution_count": null,
   "id": "f1eec69d-8bef-4d2a-a78e-85dccec36771",
   "metadata": {},
   "outputs": [],
   "source": [
    "chi_crimes = pd.read_csv('datasets\\\\Chicago_Crimes.csv')\n",
    "chi_crimes"
   ]
  },
  {
   "cell_type": "code",
   "execution_count": null,
   "id": "ffadede8-8516-41bb-9b51-056b839ff796",
   "metadata": {},
   "outputs": [],
   "source": [
    "chi_crimes.columns"
   ]
  },
  {
   "cell_type": "markdown",
   "id": "b2247abf-36f5-47fc-a4aa-fc41ab641574",
   "metadata": {},
   "source": [
    "<h1>Fill Null Values</h1>"
   ]
  },
  {
   "cell_type": "code",
   "execution_count": null,
   "id": "f3d52fb9-d682-4c24-b565-8615474cad38",
   "metadata": {},
   "outputs": [],
   "source": [
    "chi_crimes.isnull().sum()"
   ]
  },
  {
   "cell_type": "code",
   "execution_count": null,
   "id": "cff5775f-0bd1-403e-b350-c141c2e3a03d",
   "metadata": {},
   "outputs": [],
   "source": [
    "chi_crimes['Date'] = chi_crimes['Date'].astype(str)\n",
    "chi_crimes['Date'] = chi_crimes['Date'].replace('/', '-') \n",
    "chi_crimes['Date'] = chi_crimes['Date'].str.strip()\n",
    "chi_crimes['Date'] = pd.to_datetime(chi_crimes['Date'], dayfirst=True, errors='coerce')"
   ]
  },
  {
   "cell_type": "code",
   "execution_count": null,
   "id": "a6cd25c6-5344-4cdd-aebd-1e3bc168467b",
   "metadata": {},
   "outputs": [],
   "source": [
    "chi_crimes['Location Description'] = chi_crimes['Location Description'].fillna('unaccounted')\n",
    "chi_crimes['Community Area'] = chi_crimes['Community Area'].fillna('unaccounted')\n",
    "chi_crimes['X Coordinate'] = chi_crimes['X Coordinate'].fillna('unaccounted')\n",
    "chi_crimes['Y Coordinate'] = chi_crimes['Y Coordinate'].fillna('unaccounted')\n",
    "chi_crimes['Latitude'] = chi_crimes['Latitude'].fillna(chi_crimes['Latitude'].mode()[0])\n",
    "chi_crimes['Longitude'] = chi_crimes['Longitude'].fillna(chi_crimes['Latitude'].mode()[0])\n",
    "chi_crimes['Location'] = chi_crimes['Location'].fillna('unaccounted')\n",
    "chi_crimes.isnull().sum()"
   ]
  },
  {
   "cell_type": "markdown",
   "id": "d31ac7be-7d75-4038-9b44-11f4866bce5a",
   "metadata": {},
   "source": [
    "<h1>Extracting Date Information</h1>"
   ]
  },
  {
   "cell_type": "code",
   "execution_count": null,
   "id": "aabcb7f0-7acc-48ac-8b06-0a3c94817279",
   "metadata": {},
   "outputs": [],
   "source": [
    "chi_crimes['Date'] = pd.to_datetime(chi_crimes['Date'], dayfirst = True, errors = 'coerce')"
   ]
  },
  {
   "cell_type": "code",
   "execution_count": null,
   "id": "7e418d13-4245-4d3d-8055-f0633af12f20",
   "metadata": {},
   "outputs": [],
   "source": [
    "chi_crimes['Month'] = chi_crimes['Date'].dt.month\n",
    "chi_crimes['Day'] = chi_crimes['Date'].dt.day\n",
    "chi_crimes['DayOfWeek'] = chi_crimes['Date'].dt.dayofweek\n",
    "chi_crimes['Time'] = chi_crimes['Date'].dt.hour\n",
    "\n",
    "chi_crimes"
   ]
  },
  {
   "cell_type": "markdown",
   "id": "22bac8f1-350a-458e-9780-8a1063493e8a",
   "metadata": {},
   "source": [
    "<h1>Change Data Types</h1>"
   ]
  },
  {
   "cell_type": "code",
   "execution_count": null,
   "id": "19ed57f8-ced2-4a01-a744-0f00b193ed78",
   "metadata": {},
   "outputs": [],
   "source": [
    "chi_crimes['Block'] = chi_crimes['Block'].astype('category')\n",
    "chi_crimes['IUCR'] = chi_crimes['IUCR'].astype('category')\n",
    "chi_crimes['Primary Type'] = chi_crimes['Primary Type'].astype('category')\n",
    "chi_crimes['Description'] = chi_crimes['Description'].astype('category')\n",
    "chi_crimes['Location Description'] = chi_crimes['Location Description'].astype('category')\n",
    "chi_crimes['District'] = chi_crimes['District'].astype('category')\n",
    "chi_crimes['Community Area'] = chi_crimes['Community Area'].astype('category')\n",
    "chi_crimes['FBI Code'] = chi_crimes['FBI Code'].astype('category')\n",
    "\n",
    "chi_crimes.dtypes"
   ]
  },
  {
   "cell_type": "markdown",
   "id": "3b146e4b-54b8-47b0-954a-b054ec63f0b8",
   "metadata": {},
   "source": [
    "<hr>\n",
    "<h1>Questions:</h1>\n",
    "<h2>1. How many crimes are recorded for each year?</h2>"
   ]
  },
  {
   "cell_type": "code",
   "execution_count": null,
   "id": "3b04daef-99f1-406f-9eb3-48f6c6772d79",
   "metadata": {},
   "outputs": [],
   "source": [
    "per_year = chi_crimes['Year'].value_counts()\n",
    "per_year"
   ]
  },
  {
   "cell_type": "code",
   "execution_count": null,
   "id": "887f4a0a-6aa5-4fd3-a93f-7000735d6877",
   "metadata": {},
   "outputs": [],
   "source": [
    "per_year.plot(kind='bar')\n",
    "plt.title('Recorded Crimes in Chicago (2024-2025)')\n",
    "plt.xlabel('Year')\n",
    "plt.ylabel('Number of Crimes')\n",
    "plt.xticks(rotation=0)\n",
    "plt.show()"
   ]
  },
  {
   "cell_type": "markdown",
   "id": "89b254bd-adef-4d24-9fee-4963af727a9f",
   "metadata": {},
   "source": [
    "<h1>INSIGHTS:</h1>\n",
    "<ol style='font-size: 19px'>\n",
    "    <li>There are 188,918 crimes recorded in 2024 and 60,205 on 2025 with a total of 249,123 records across all the data.</li>\n",
    "    <li>There is a big gap between the first and second year as the amount of records experience a 68.14% drop from 2024-2025</li>\n",
    "</ol>\n",
    "<hr>\n",
    "<h2>2. Which year have the higher arrest rate?</h2>"
   ]
  },
  {
   "cell_type": "code",
   "execution_count": null,
   "id": "ddf0d6a9-c053-4c60-b59e-aaed4d266b44",
   "metadata": {},
   "outputs": [],
   "source": [
    "arrest_rate = chi_crimes.groupby(['Year', 'Arrest']).size()\n",
    "arrest_rate"
   ]
  },
  {
   "cell_type": "code",
   "execution_count": null,
   "id": "074c0ee9-c560-4ab5-9aaa-63554223aa6d",
   "metadata": {},
   "outputs": [],
   "source": [
    "arrest_2024 = chi_crimes[chi_crimes['Year'] == 2024]\n",
    "arrest_2025 = chi_crimes[chi_crimes['Year'] == 2025]\n",
    "\n",
    "#for the year 2024\n",
    "ar_2024 = arrest_2024['Arrest'].value_counts().plot(kind='pie', autopct='%1.1f%%', colors=['cornflowerblue', 'orange'], startangle = 110)\n",
    "plt.title('Arrests in 2024')\n",
    "plt.ylabel('')\n",
    "plt.show()\n",
    "\n",
    "#for the year 2025\n",
    "ar_2025 = arrest_2025['Arrest'].value_counts().plot(kind='pie', autopct='%1.1f%%', colors=['cornflowerblue', 'orange'], startangle = 120)\n",
    "plt.title('Arrests in 2025')\n",
    "plt.ylabel('')\n",
    "plt.show()"
   ]
  },
  {
   "cell_type": "markdown",
   "id": "db58680a-e5d5-4694-86d1-ef9354d550f3",
   "metadata": {},
   "source": [
    "<h1>INSIGHTS:</h1>\n",
    "<ol start='3', style='font-size: 19px'>\n",
    "    <li>2025 have the higher arrest rate being 4.1% more than the previous year.</li>\n",
    "    <li>For both years, most crimes usually don't result to an arrest as the remaining is still over 80% for both of them.</li>\n",
    "</ol>\n",
    "<hr>\n",
    "<h2>3. What are the most common types of crime?</h2>"
   ]
  },
  {
   "cell_type": "code",
   "execution_count": null,
   "id": "0b292676-c339-4821-b054-7d8bd3435bdd",
   "metadata": {},
   "outputs": [],
   "source": [
    "crimes = chi_crimes['Primary Type'].value_counts().head(6)\n",
    "crimes"
   ]
  },
  {
   "cell_type": "code",
   "execution_count": null,
   "id": "6ad24850-1ef9-44eb-bd39-05222a67c415",
   "metadata": {},
   "outputs": [],
   "source": [
    "crimes.plot(kind='bar', figsize=(13, 6))\n",
    "plt.title('Most Common Types of Crime')\n",
    "plt.xlabel('Type of Crime')\n",
    "plt.ylabel('Number of Records')\n",
    "plt.xticks(rotation=0)\n",
    "plt.show()"
   ]
  },
  {
   "cell_type": "markdown",
   "id": "961111e8-6677-4435-bdcb-d0251ef4c9f1",
   "metadata": {},
   "source": [
    "<h1>INSIGHTS:</h1>\n",
    "<ol start='5', style='font-size: 19px'>\n",
    "    <li>The most common type of crimes in Chicago is Theft, Battery, Criminal Damage, Assault, Motor Vehicle Theft and Other Offense.</li>\n",
    "    <li>Theft is the most common from all the types with 59,201 being recorded across all the data.</li>\n",
    "    <li>Theft, including Motor Vehicle Theft already cover nearly 31.6% of all reported crimes, making the most common type in the dataset.</li>\n",
    "</ol>\n",
    "<hr>\n",
    "<h2>4. What are the common locations where crimes occur most?</h2>"
   ]
  },
  {
   "cell_type": "code",
   "execution_count": null,
   "id": "69c1c674-5e10-429f-8ad8-bcfdcec28ec9",
   "metadata": {},
   "outputs": [],
   "source": [
    "common_loc = chi_crimes['Location Description'].value_counts().head(5)\n",
    "common_loc"
   ]
  },
  {
   "cell_type": "code",
   "execution_count": null,
   "id": "176d9b4f-7c39-47b1-bd9f-1e0867b2492a",
   "metadata": {},
   "outputs": [],
   "source": [
    "common_loc.plot(kind='bar', figsize=(13, 6))\n",
    "plt.title('Most Common Locations for Crimes')\n",
    "plt.xlabel('Type of Crime')\n",
    "plt.ylabel('Number of Records')\n",
    "plt.xticks(rotation=0)\n",
    "plt.show()"
   ]
  },
  {
   "cell_type": "markdown",
   "id": "a8a9185c-7900-4835-87b1-61f7aed2f702",
   "metadata": {},
   "source": [
    "<h1>INSIGHTS:</h1>\n",
    "<ol start='8', style='font-size: 19px'>\n",
    "    <li>The most common locations for crimes in Chicago is in the Street, Apartment, Residence, Sidewalk and Small Retail Stores.</li>\n",
    "    <li>Crimes usually happen on the street as there have been 66,040 recorded for the past two years.</li>\n",
    "    <li>Public spaces like streets and sidewalks are common as they're open and accessible, making them easier targets for crimes like theft or robbery.</li>\n",
    "</ol>\n",
    "<hr>\n",
    "<h2>5. In what hour of the day does most crimes usually happen?</h2>"
   ]
  },
  {
   "cell_type": "code",
   "execution_count": null,
   "id": "1bddfba4-7047-47bf-b67f-119209846cbb",
   "metadata": {},
   "outputs": [],
   "source": [
    "hour = chi_crimes.groupby(['Time']).size()\n",
    "hour"
   ]
  },
  {
   "cell_type": "code",
   "execution_count": null,
   "id": "7020b200-5f8f-40a4-bb29-cafe0173174b",
   "metadata": {},
   "outputs": [],
   "source": [
    "hour.plot(marker='o', figsize=(10, 5))\n",
    "plt.title('Number of Crimes Recorded Each Hour')\n",
    "plt.grid(alpha=0.3)\n",
    "plt.show()"
   ]
  },
  {
   "cell_type": "markdown",
   "id": "8288c854-9943-46e8-b3ad-6b6a5fae3c69",
   "metadata": {},
   "source": [
    "<h1>INSIGHTS:</h1>\n",
    "<ol start='11', style='font-size: 19px'>\n",
    "    <li>Most of the crimes happen in nighttime as the count don't even go above 12,000 before 12:00PM (noon).</li>\n",
    "    <li>12:00 AM (midnight) have the highest recorded crimes having 16,752 recorded that hour. </li>\n",
    "    <li>5:00 is the hour with the least amount of records with only 4,551 being recorded in that hour for the past two years.</li>\n",
    "</ol>\n",
    "<hr>\n",
    "<h2>6. Do robberies become more common in certain months in the year?</h2>"
   ]
  },
  {
   "cell_type": "code",
   "execution_count": null,
   "id": "235df056-4741-4fde-917f-76b2bb2497e5",
   "metadata": {},
   "outputs": [],
   "source": [
    "rob = chi_crimes[chi_crimes['Primary Type'] == 'ROBBERY']\n",
    "\n",
    "rob_df = rob.groupby(['Year', 'Month']).size().unstack(level=0)\n",
    "rob_df"
   ]
  },
  {
   "cell_type": "code",
   "execution_count": null,
   "id": "2c96a501-75d9-4bea-bc2b-33f1fde4890c",
   "metadata": {},
   "outputs": [],
   "source": [
    "rob_df.plot(\n",
    "    marker='o', \n",
    "    figsize=(10, 5),\n",
    "    title='Robberies Reported Each Month'\n",
    ")\n",
    "plt.xticks(range(1, 13), ['Jan','Feb','Mar','Apr','May','Jun','Jul','Aug','Sep','Oct','Nov','Dec'])\n",
    "plt.grid(alpha=0.3)\n",
    "plt.show()"
   ]
  },
  {
   "cell_type": "markdown",
   "id": "2eac6088-831f-424e-b24d-370dbf6c1153",
   "metadata": {},
   "source": [
    "<h1>INSIGHTS:</h1>\n",
    "<ol start='14', style='font-size: 19px'>\n",
    "    <li>In 2024, Robberies experience a 26.5% increase in the month of April and it just continue to rise over the months.</li>\n",
    "    <li>In 2025, the amount of it experience a 35.3% drop going from 357 from the month of March and down to only 68 in April.</li>\n",
    "    <li>For both years, they both experience a big change after the month of March</li>\n",
    "</ol>\n",
    "<hr>\n",
    "<h2>7. What type of crimes have the least amount of records and are most of them arrested?</h2>"
   ]
  },
  {
   "cell_type": "code",
   "execution_count": null,
   "id": "f905c221-13b5-46e8-b6a2-2d920e0badfb",
   "metadata": {},
   "outputs": [],
   "source": [
    "arrest_type = chi_crimes.groupby(['Primary Type', 'Arrest']).size().unstack()\n",
    "arrest_type"
   ]
  },
  {
   "cell_type": "code",
   "execution_count": null,
   "id": "f0fb9249-5adb-406b-b022-e7dc6fa44db2",
   "metadata": {},
   "outputs": [],
   "source": [
    "low_arrest = chi_crimes[chi_crimes['Primary Type'].isin(['GAMBLING', 'HUMAN TRAFFICKING', 'NON-CRIMINAL', 'OBSCENITY', 'PUBLIC INDECENCY'])]\n",
    "low_arrest['Primary Type'] = low_arrest['Primary Type'].astype('string')\n",
    "\n",
    "arrest_type = low_arrest.groupby(['Primary Type', 'Arrest']).size().unstack()"
   ]
  },
  {
   "cell_type": "code",
   "execution_count": null,
   "id": "026ba621-0427-4f7a-b028-9475a51818dd",
   "metadata": {},
   "outputs": [],
   "source": [
    "arrest_type.plot(kind='bar', figsize=(10,6))\n",
    "plt.title('Least Common Crimes with Arrest Outcomes')\n",
    "plt.xlabel('Crime Type')\n",
    "plt.ylabel('Number of Records')\n",
    "plt.legend(title='Arrested')\n",
    "plt.xticks(rotation=0)\n",
    "plt.show()"
   ]
  },
  {
   "cell_type": "markdown",
   "id": "3ff7c484-2861-4463-8c4a-a29e0868fd6f",
   "metadata": {},
   "source": [
    "<h1>INSIGHTS:</h1>\n",
    "<ol start='17', style='font-size: 19px'>\n",
    "    <li>The crimes with the least amount of records are Gambling, Human Trafficking, Non-Criminal, Obscenity and Public Indecency.</li>\n",
    "    <li>Non-Criminal have the least records for all of the types with a combined count of only 4.</li>\n",
    "    <li>For Gambling, it has a 100% arrest rate with 18 records which all of them resulted in an arrest.</li>\n",
    "    <li>It is then the opposite for Human Trafficking being 0% making it with no arrests despite having 24 records.</li>\n",
    "</ol>\n",
    "<hr>\n",
    "<h2>8. Are the crimes in the most common locations domestic or non-domestic?</h2>"
   ]
  },
  {
   "cell_type": "code",
   "execution_count": null,
   "id": "a25f18f0-c1c7-4981-9521-6de6bc5d8772",
   "metadata": {},
   "outputs": [],
   "source": [
    "dom_loc = chi_crimes[chi_crimes['Location Description'].isin(['STREET', 'APARTMENT', 'RESIDENCE', 'SIDEWALK', 'SMALL RETAIL STORE'])]\n",
    "dom_loc['Location Description'] = dom_loc['Location Description'].astype('string')\n",
    "\n",
    "arresto_d = dom_loc.groupby(['Location Description', 'Domestic']).size().unstack()\n",
    "arresto_d"
   ]
  },
  {
   "cell_type": "code",
   "execution_count": null,
   "id": "c8c8b309-bc32-4ce5-93ab-c2b52d94530d",
   "metadata": {},
   "outputs": [],
   "source": [
    "arresto_d.plot(kind='bar', figsize=(10,6))\n",
    "plt.title('Are the crimes in the most common locations domestic or non-domestic?')\n",
    "plt.xlabel('Crime Type')\n",
    "plt.ylabel('Number of Records')\n",
    "plt.legend(title='Arrested')\n",
    "plt.xticks(rotation=0)\n",
    "plt.show()"
   ]
  },
  {
   "cell_type": "markdown",
   "id": "efb9dd2a-a387-40f2-957f-ceb8fac5b14e",
   "metadata": {},
   "source": [
    "<h1>INSIGHTS:</h1>\n",
    "<ol start='21', style='font-size: 19px'>\n",
    "    <li>Most of the crimes happening in the locations are non-domestic.</li>\n",
    "    <li>Apartments experience the most domestic crimes having 22,370 recorded having the least difference from its non-domestic crimes in the area.</li>\n",
    "    <li>Apartments and Residence have the most domestic crimes as this is where people live, so it naturally occur in these settings.</li>\n",
    "</ol>\n",
    "<hr>\n",
    "<h2>9. What are the most common descriptions for the crimes in Chicago?</h2>"
   ]
  },
  {
   "cell_type": "code",
   "execution_count": null,
   "id": "f871b5b1-566e-4d39-8da9-b1f7966b2d18",
   "metadata": {},
   "outputs": [],
   "source": [
    "common_desc = chi_crimes['Description'].value_counts().head(6)\n",
    "common_desc"
   ]
  },
  {
   "cell_type": "code",
   "execution_count": null,
   "id": "8dd8cf45-8425-4942-a553-c66b490cbd46",
   "metadata": {},
   "outputs": [],
   "source": [
    "plt.figure(figsize=(11,6))\n",
    "sns.countplot(y='Description', data=chi_crimes, order=common_desc.index)\n",
    "plt.show()"
   ]
  },
  {
   "cell_type": "markdown",
   "id": "2c0b2377-6478-4b02-ab71-9dadd738de07",
   "metadata": {},
   "source": [
    "<h1>INSIGHTS:</h1>\n",
    "<ol start='24', style='font-size: 19px'>\n",
    "    <li>'Simple' is the most common description for crimes with about 30,526 records given this description.</li>\n",
    "    <li>This is followed by 'Domestic Battery Simple' with about 19,810 records.</li>\n",
    "</ol>\n",
    "<hr>\n",
    "<h2>10. Is there any difference to the number of crimes for weekdays and weekends? </h2>"
   ]
  },
  {
   "cell_type": "code",
   "execution_count": null,
   "id": "d5d8b53e-ce71-41d7-aaf9-8dfc8fcfd7b3",
   "metadata": {},
   "outputs": [],
   "source": [
    "whichdays = chi_crimes.groupby(['DayOfWeek']).size()\n",
    "whichdays"
   ]
  },
  {
   "cell_type": "code",
   "execution_count": null,
   "id": "4c917d18-e323-473e-8b5e-48ccb8f19200",
   "metadata": {},
   "outputs": [],
   "source": [
    "whichdays.plot(kind='bar', figsize=(13, 6))\n",
    "plt.title('Daily Crime Records Throughout the Week')\n",
    "plt.xlabel('Day of Week')\n",
    "plt.ylabel('Number of Records')\n",
    "plt.xticks(range(0, 7), ['Monday','Tuesday','Wednesday','Thursday','Friday','Saturday','Sunday'], rotation=0)\n",
    "\n",
    "plt.show()"
   ]
  },
  {
   "cell_type": "markdown",
   "id": "67ebec28-33cb-487a-84e6-247537d6a19b",
   "metadata": {},
   "source": [
    "<h1>INSIGHTS:</h1>\n",
    "<ol start='26', style='font-size: 19px'>\n",
    "    <li>There are not much difference between all of the days in the week as all of them stay over 35,000.</li>\n",
    "    <li>Throughout the week, Friday have the highest amount of records with about 37,498 crimes reported that day of week.</li>\n",
    "    <li>This is followed by Monday with 36,262 records.</li>\n",
    "</ol>\n",
    "<hr>\n",
    "<h2>11. Is there more domestic crimes in 2024 or 2025? </h2>"
   ]
  },
  {
   "cell_type": "code",
   "execution_count": null,
   "id": "3f0e38cf-07e2-4176-9ab6-8ce414b20815",
   "metadata": {},
   "outputs": [],
   "source": [
    "arrest_2024 = chi_crimes[chi_crimes['Year'] == 2024]\n",
    "arrest_2025 = chi_crimes[chi_crimes['Year'] == 2025]\n",
    "\n",
    "#for the year 2024\n",
    "ar_2024 = arrest_2024['Domestic'].value_counts().plot(kind='pie', autopct='%1.1f%%', colors=['cornflowerblue', 'orange'], startangle = 110)\n",
    "plt.title('Domestic VS Non-Domestic (2024)')\n",
    "plt.ylabel('')\n",
    "plt.show()\n",
    "\n",
    "#for the year 2025\n",
    "ar_2025 = arrest_2025['Domestic'].value_counts().plot(kind='pie', autopct='%1.1f%%', colors=['cornflowerblue', 'orange'], startangle = 120)\n",
    "plt.title('Domestic VS Non-Domestic (2025)')\n",
    "plt.ylabel('')\n",
    "plt.show()"
   ]
  },
  {
   "cell_type": "markdown",
   "id": "5b055d27-d4b6-4460-88e7-d14db411f7a0",
   "metadata": {},
   "source": [
    "<h1>INSIGHTS:</h1>\n",
    "<ol start='29', style='font-size: 19px'>\n",
    "    <li>2024 and 2025 are almost the same only having a 0.8% difference.</li>\n",
    "    <li>For both years, there are more non-domestic crimes than domestic as the remaining are still above 80% of all the records.</li>\n",
    "    <li>Domestic actually experience an increase in percentage for the year 2025 despite that year having the less amount of crimes recorded.</li>\n",
    "</ol>\n",
    "<hr>\n",
    "<h2>12. What FBI Code have the highest record for 2024?</h2>"
   ]
  },
  {
   "cell_type": "code",
   "execution_count": null,
   "id": "0403f61f-ab38-4370-beca-e6aa7440035f",
   "metadata": {},
   "outputs": [],
   "source": [
    "code = chi_crimes['FBI Code'].value_counts().head(10)\n",
    "code"
   ]
  },
  {
   "cell_type": "code",
   "execution_count": null,
   "id": "511422d5-bc7d-436e-8f0f-901d4ee6cabc",
   "metadata": {},
   "outputs": [],
   "source": [
    "code.plot(kind='barh', figsize=(13, 6))\n",
    "plt.title('Most Common FBI Codes Recorded in Chicago')\n",
    "plt.xlabel('Type of Crime')\n",
    "plt.ylabel('Number of Records')\n",
    "plt.xticks(rotation=0)\n",
    "plt.show()"
   ]
  },
  {
   "cell_type": "markdown",
   "id": "e88321df-3750-408f-b5f3-69d414e0b522",
   "metadata": {},
   "source": [
    "<h1>INSIGHTS:</h1>\n",
    "<ol start='32', style='font-size: 19px'>\n",
    "    <li>'06' is the most common FBI Code with about 60,380 records that come with that code.</li>\n",
    "    <li>This is followed by '08B' with about 37,090 records.</li>\n",
    "</ol>\n",
    "<hr>\n",
    "<h2>13. Which crimes are most common in the most active blocks?</h2>"
   ]
  },
  {
   "cell_type": "code",
   "execution_count": null,
   "id": "d384143f-5273-464c-bd36-828715915b08",
   "metadata": {},
   "outputs": [],
   "source": [
    "active_blocks = chi_crimes[chi_crimes['Block'].isin(['001XX N STATE ST', '0000X N STATE ST', '0000X W TERMINAL ST', '044XX N BROADWAY', '076XX S CICERO AVE', '011XX S CANAL ST'])]\n",
    "active_blocks['Block'] = active_blocks['Block'].astype('string')\n",
    "\n",
    "crime_count = active_blocks.groupby(['Block', 'Primary Type']).size().unstack(level=0)\n",
    "crime_count"
   ]
  },
  {
   "cell_type": "code",
   "execution_count": null,
   "id": "6088a658-3065-4977-ab1e-c25241688405",
   "metadata": {},
   "outputs": [],
   "source": [
    "active_blocks['Primary Type'] = active_blocks['Primary Type'].astype('string')\n",
    "active = active_blocks.groupby(['Block', 'Primary Type']).size().unstack()\n",
    "\n",
    "active.plot(kind='bar', stacked=True, figsize=(14,8))\n",
    "plt.title('Crimes in the Most Active Blocks')\n",
    "plt.xlabel('Block')\n",
    "plt.ylabel('Number of Records')\n",
    "plt.legend(title='Arrested')\n",
    "plt.xticks(rotation=0)\n",
    "plt.legend(title='Primary Type', bbox_to_anchor = (1,1), loc='upper left')\n",
    "plt.show()"
   ]
  },
  {
   "cell_type": "markdown",
   "id": "318ec7e2-a5d8-4870-b194-c86e66433f0e",
   "metadata": {},
   "source": [
    "<h1>INSIGHTS:</h1>\n",
    "<ol start='34', style='font-size: 19px'>\n",
    "    <li>All the blocks experience the same having theft as their most common crime recorded.</li>\n",
    "    <li>001XX N STATE ST is the most active block having the highest record of theft and highest combined number with over 600 happening in that block alone.</li>\n",
    "</ol>\n",
    "<hr>"
   ]
  }
 ],
 "metadata": {
  "kernelspec": {
   "display_name": "Python 3 (ipykernel)",
   "language": "python",
   "name": "python3"
  },
  "language_info": {
   "codemirror_mode": {
    "name": "ipython",
    "version": 3
   },
   "file_extension": ".py",
   "mimetype": "text/x-python",
   "name": "python",
   "nbconvert_exporter": "python",
   "pygments_lexer": "ipython3",
   "version": "3.12.4"
  }
 },
 "nbformat": 4,
 "nbformat_minor": 5
}
